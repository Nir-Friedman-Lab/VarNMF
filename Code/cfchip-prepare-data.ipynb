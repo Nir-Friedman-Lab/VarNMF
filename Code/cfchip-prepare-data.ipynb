{
 "cells": [
  {
   "cell_type": "code",
   "execution_count": 52,
   "outputs": [],
   "source": [
    "\n",
    "from Simulation_code.Simulation import *\n",
    "from lib_code.NMF_lib import get_house_keeping_genes\n",
    "from pipeline_code.setup_data_run import split_train_test, get_split_data\n"
   ],
   "metadata": {
    "collapsed": false
   }
  },
  {
   "cell_type": "markdown",
   "source": [
    "# setup"
   ],
   "metadata": {
    "collapsed": false
   }
  },
  {
   "cell_type": "code",
   "execution_count": 53,
   "outputs": [
    {
     "data": {
      "text/plain": "PosixPath('/Users/elafallik/Documents/submission-github/results/CRC+SCLC/unsupervised1')"
     },
     "execution_count": 53,
     "metadata": {},
     "output_type": "execute_result"
    }
   ],
   "source": [
    "cohort_name = 'CRC+SCLC'\n",
    "N = 185\n",
    "N_test = 120\n",
    "\n",
    "# paper params\n",
    "# ts = [1,2,3,4,5]\n",
    "Ks = np.arange(1,11)\n",
    "\n",
    "# demo params\n",
    "ts = [1]\n",
    "Ks = np.arange(1,11)\n",
    "\n",
    "data_path = root_path/f'data/{cohort_name}/unsupervised1'\n",
    "em_runs_output_path = root_path/f'results/{cohort_name}/unsupervised1'\n",
    "get_test = True\n",
    "\n",
    "mkdir(em_runs_output_path, recursive=True)\n",
    "plots_path = root_path/f'plots/{cohort_name}/unsupervised1'\n",
    "mkdir(plots_path, recursive=True)\n",
    "\n",
    "em_runs_output_path"
   ],
   "metadata": {
    "collapsed": false
   }
  },
  {
   "cell_type": "code",
   "execution_count": 54,
   "outputs": [],
   "source": [
    "ref_seq = pd.read_csv(root_path/'data/ref-seq.txt', dtype='object', header=None).values[:, 0]"
   ],
   "metadata": {
    "collapsed": false
   }
  },
  {
   "cell_type": "markdown",
   "source": [
    "# get data"
   ],
   "metadata": {
    "collapsed": false
   }
  },
  {
   "cell_type": "code",
   "execution_count": 55,
   "outputs": [
    {
     "data": {
      "text/plain": "((18182, 305), 7176)"
     },
     "execution_count": 55,
     "metadata": {},
     "output_type": "execute_result"
    }
   ],
   "source": [
    "data = pd.read_csv(data_path.parent/'counts-filtered.csv', index_col=0)\n",
    "bg = pd.read_csv(data_path.parent/'background-filtered.csv', index_col=0)\n",
    "\n",
    "bg.to_csv(data_path/'background-filtered.csv')\n",
    "data.shape, data.values.max()"
   ],
   "metadata": {
    "collapsed": false
   }
  },
  {
   "cell_type": "markdown",
   "source": [
    "\n",
    "## get samples"
   ],
   "metadata": {
    "collapsed": false
   }
  },
  {
   "cell_type": "code",
   "execution_count": 56,
   "outputs": [],
   "source": [
    "cohort1_name = 'SCLC'\n",
    "cohort2_name = 'CRC'"
   ],
   "metadata": {
    "collapsed": false,
    "ExecuteTime": {
     "end_time": "2024-01-16T14:59:28.028030Z",
     "start_time": "2024-01-16T14:59:27.517447Z"
    }
   }
  },
  {
   "cell_type": "code",
   "execution_count": 57,
   "outputs": [
    {
     "name": "stdout",
     "output_type": "stream",
     "text": [
      "(139,) (86,) (80,) (305,) (18182, 305) 7176\n"
     ]
    }
   ],
   "source": [
    "cohort1_samples = np.array([s for s in data.columns if s.startswith('SCLC')])\n",
    "cohort2_samples = np.array([s for s in data.columns if s.startswith('CRC')])\n",
    "healthy_samples = np.array([s for s in data.columns if s.startswith('PS')])\n",
    "samples = data.columns\n",
    "\n",
    "get_test = True\n",
    "print(cohort1_samples.shape, cohort2_samples.shape, healthy_samples.shape, samples.shape, data.shape, data.values.max())"
   ],
   "metadata": {
    "collapsed": false,
    "ExecuteTime": {
     "end_time": "2024-01-16T14:59:28.063792Z",
     "start_time": "2024-01-16T14:59:27.520890Z"
    }
   }
  },
  {
   "cell_type": "markdown",
   "source": [
    "## get split train test"
   ],
   "metadata": {
    "collapsed": false
   }
  },
  {
   "cell_type": "code",
   "execution_count": 58,
   "outputs": [
    {
     "name": "stdout",
     "output_type": "stream",
     "text": [
      "(185,) (120,)\n"
     ]
    },
    {
     "data": {
      "text/plain": "array(['CRC0001-2752_NA_H3K4me3-L_03092018-L',\n       'SCLC0147-5_NA_H3K4me3-38_26032021-13',\n       'SCLC0063-699_NA_H3K4me3-38_26032021-13',\n       'SCLC0196-711_NA_H3K4me3-38_26032021-13',\n       'SCLC0261-450_NA_H3K4me3-38_26032021-13',\n       'CRC0053-3882_NA_H3K4me3-L_19022020-L',\n       'SCLC0039-499_NA_H3K4me3-39_26032021-13',\n       'CRC0009-1996_NA_H3K4me3-L_17122019-L',\n       'SCLC0180-112_NA_H3K4me3-39_26032021-13',\n       'SCLC0059-723_NA_H3K4me3-39_26032021-13',\n       'SCLC0006-464_NA_H3K4me3-39_26032021-13',\n       'CRC0041-3870_NA_H3K4me3-L_17022020-L',\n       'SCLC0176-178_NA_H3K4me3-39_26032021-13',\n       'SCLC0041-509_NA_H3K4me3-38_26032021-13',\n       'SCLC0049-585_NA_H3K4me3-39_26032021-13',\n       'SCLC0050-605_NA_H3K4me3-38_26032021-13',\n       'SCLC0031-445_NA_H3K4me3-39_26032021-13',\n       'CRC0010-1913_NA_H3K4me3-L_17122019-L',\n       'SCLC0025-457_NA_H3K4me3-38_26032021-13',\n       'SCLC0035-586_NA_H3K4me3-39_26032021-13',\n       'PS0046-3_EDTA-FreshChIP_H3K4me3-90_25072021-28',\n       'CRC0010-3937_NA_H3K4me3-L_19022020-L',\n       'CRC0013-2572_NA_H3K4me3-L_17122019-L',\n       'CRC0021-3313_NA_H3K4me3-L_28112019-L',\n       'PS0162-1_NA_H3K4me3-620_04022023-81',\n       'CRC0030-3263_NA_H3K4me3-L_17122019-L',\n       'PS0119-9_A-1_H3K4me3-606_19012023-78',\n       'PS0125-7_NA_H3K4me3-352_21062022-54',\n       'SCLC0006-661_NA_H3K4me3-39_26032021-13',\n       'PS0001-12_12W-EDTA_H3K4me3-587_05012023-75',\n       'PS0188-1_NA_H3K4me3-732_14072023-97',\n       'SCLC0061-696_NA_H3K4me3-39_26032021-13',\n       'CRC0025-2815_NA_H3K4me3-L_19012020-L',\n       'PS0178-1_NA_H3K4me3-732_14072023-97',\n       'SCLC0066-750_NA_H3K4me3-38_26032021-13',\n       'PS0115-1_NA_H3K4me3-124_27102021-34',\n       'CRC0011-2010_NA_H3K4me3-L_28112019-L',\n       'SCLC0010-1553_NA_H3K4me3-L_21062020-L',\n       'CRC0020-3948_NA_H3K4me3-L_19022020-L',\n       'CRC0026-2854_NA_H3K4me3-L_17122019-L',\n       'CRC0006-4462_NA_H3K4me3-L_05102020-L',\n       'PS0114-1_NA_H3K4me3-124_27102021-34',\n       'SCLC0174-402_NA_H3K4me3-39_26032021-13',\n       'SCLC0126-223_NA_H3K4me3-38_26032021-13',\n       'CRC0041-3957_NA_H3K4me3-L_19022020-L',\n       'CRC0025-3746_NA_H3K4me3-L_28112019-L',\n       'PS0004-20_NA_H3K4me3-732_14072023-97',\n       'SCLC0035-466_NA_H3K4me3-39_26032021-13',\n       'SCLC0214-275_NA_H3K4me3-39_26032021-13',\n       'CRC0009-1997_NA_H3K4me3-L_17122019-L',\n       'PS0046-6_Manual_H3K4me3-170_07122021-38',\n       'PS0062-2_NA_H3K4me3-732_14072023-97',\n       'PS0035-17_CtrlElution-11A-55C_H3K4me3-743_30072023-100',\n       'PS0193-1_NA_H3K4me3-732_14072023-97',\n       'CRC0004-3990_NA_H3K4me3-L_19022020-L',\n       'CRC0006-4620_NA_H3K4me3-L_11102020-L',\n       'PS0117-2_NA_H3K4me3-398_02082022-59',\n       'PS0176-1_NA_H3K4me3-728_06072023-96',\n       'SCLC0044-538_NA_H3K4me3-38_26032021-13',\n       'SCLC0059-764_NA_H3K4me3-39_26032021-13',\n       'CRC0033-3900_NA_H3K4me3-L_19022020-L',\n       'PS0035-15_NA_H3K4me3-586_05012023-75',\n       'CRC0002-2302_NA_H3K4me3-L_17122019-L',\n       'SCLC0114-351_NA_H3K4me3-L_21062020-L',\n       'SCLC0007-54_NA_H3K4me3-39_26032021-13',\n       'PS0043-3_Control_H3K4me3-66_21062021-24',\n       'SCLC0047-571_NA_H3K4me3-38_26032021-13',\n       'PS0182-1_NA_H3K4me3-698_19052023-92',\n       'PS0181-1_NA_H3K4me3-732_14072023-97',\n       'SCLC0402-174_NA_H3K4me3-39_26032021-13',\n       'PS0119-6_NA_H3K4me3-385_02082022-59',\n       'SCLC0029-399_NA_H3K4me3-39_26032021-13',\n       'SCLC0040-501_NA_H3K4me3-39_26032021-13',\n       'SCLC0150-669_NA_H3K4me3-39_26032021-13',\n       'CRC0003-2737_NA_H3K4me3-L_17122019-L',\n       'CRC0023-2754_NA_H3K4me3-L_17122019-L',\n       'PS0177-1_NA_H3K4me3-698_19052023-92',\n       'CRC0005-2944_NA_H3K4me3-L_03122018-L',\n       'PS0131-2_HamElution-72C-4G_H3K4me3-743_30072023-100',\n       'SCLC0058-720_NA_H3K4me3-39_26032021-13',\n       'CRC0033-4033_NA_H3K4me3-L_19022020-L',\n       'CRC0023-3909_NA_H3K4me3-L_17022020-L',\n       'SCLC0062-778_NA_H3K4me3-39_26032021-13',\n       'SCLC0422-38_NA_H3K4me3-38_26032021-13',\n       'PS0046-5_NA_H3K4me3-157_17112021-36',\n       'PS0122-1_Manual_H3K4me3-170_07122021-38',\n       'SCLC0024-293_NA_H3K4me3-39_26032021-13',\n       'SCLC0061-777_NA_H3K4me3-39_26032021-13',\n       'SCLC0013-145_NA_H3K4me3-38_26032021-13',\n       'SCLC0002-434_NA_H3K4me3-39_26032021-13',\n       'SCLC0034-462_NA_H3K4me3-39_26032021-13',\n       'SCLC0169-74_NA_H3K4me3-39_26032021-13',\n       'PS0173-1_NA_H3K4me3-726_06072023-96',\n       'SCLC0030-435_NA_H3K4me3-39_26032021-13',\n       'CRC0006-4679_NA_H3K4me3-L_05102020-L',\n       'PS0003-2_israa_H3K4me3-9_07012021-4',\n       'PS0142-1_NA_H3K4me3-352_21062022-54',\n       'SCLC0125-1436_NA_H3K4me3-L_21062020-L',\n       'CRC0028-3987_NA_H3K4me3-L_19022020-L',\n       'PS0127-4_Roche-2W_H3K4me3-525_23102022-67',\n       'CRC0010-1954_NA_H3K4me3-L_17122019-L',\n       'SCLC0037-521_NA_H3K4me3-39_26032021-13',\n       'SCLC0022-488_NA_H3K4me3-39_26032021-13',\n       'CRC0009-1995_NA_H3K4me3-L_17122019-L',\n       'PS0121-1_Manual_H3K4me3-170_07122021-38',\n       'CRC0025-2929_NA_H3K4me3-L_19022020-L',\n       'SCLC0019-235_NA_H3K4me3-38_26032021-13',\n       'SCLC0006-348_NA_H3K4me3-38_26032021-13',\n       'CRC0005-3110_NA_H3K4me3-L_09022019-L',\n       'PS0160-2_NA_H3K4me3-579_24122022-73',\n       'CRC0010-3821_NA_H3K4me3-L_17122019-L',\n       'SCLC0059-681_NA_H3K4me3-39_26032021-13',\n       'PS0096-1_Manual_H3K4me3-93_25072021-28',\n       'SCLC0034-512_NA_H3K4me3-38_26032021-13',\n       'PS0043-1_NA_H3K4me3-52_09052021-17',\n       'PS0035-7_NA_H3K4me3-124_27102021-34',\n       'PS0017-3_16h-ChIP_H3K4me3-45_23042021-15',\n       'SCLC0010-774_NA_H3K4me3-38_26032021-13',\n       'CRC0051-3956_NA_H3K4me3-L_19022020-L',\n       'SCLC0051-612_NA_H3K4me3-39_26032021-13',\n       'SCLC0026-363_NA_H3K4me3-38_26032021-13',\n       'CRC0041-3770_NA_H3K4me3-L_28112019-L',\n       'SCLC0126-1441_NA_H3K4me3-L_21062020-L',\n       'CRC0037-3903_NA_H3K4me3-L_19022020-L',\n       'CRC0010-3743_NA_H3K4me3-L_28112019-L',\n       'CRC0056-3941_NA_H3K4me3-L_19022020-L',\n       'PS0126-1_WashPlate-1_H3K4me3-248_16022022-44',\n       'CRC0012-3802_NA_H3K4me3-L_17122019-L',\n       'CRC0015-3875_NA_H3K4me3-L_17022020-L',\n       'PS0003-25_Roche-17W_H3K4me3-621_04022023-81',\n       'CRC0048-3818_NA_H3K4me3-L_19022020-L',\n       'CRC0040-3944_NA_H3K4me3-L_19022020-L',\n       'SCLC0014-579_NA_H3K4me3-38_26032021-13',\n       'CRC0005-2865_NA_H3K4me3-L_28112019-L',\n       'SCLC0111-539_NA_H3K4me3-L_21062020-L',\n       'SCLC0043-518_NA_H3K4me3-38_26032021-13',\n       'SCLC0057-676_NA_H3K4me3-38_26032021-13',\n       'CRC0003-2740_NA_H3K4me3-L_26082018-L',\n       'CRC0002-2301_NA_H3K4me3-L_17122019-L',\n       'CRC0009-2001_NA_H3K4me3-L_17122019-L',\n       'CRC0035-3402_NA_H3K4me3-L_28112019-L',\n       'CRC0021-3974_NA_H3K4me3-L_24042020-L',\n       'CRC0025-2928_NA_H3K4me3-L_19022020-L',\n       'PS0119-7_NA_H3K4me3-401_19082022-62',\n       'SCLC0422-8_NA_H3K4me3-39_26032021-13',\n       'PS0004-15_NA_H3K4me3-325_07052022-50',\n       'SCLC0018-219_NA_H3K4me3-38_26032021-13',\n       'SCLC0146-1504_NA_H3K4me3-L_21062020-L',\n       'SCLC0026-520_NA_H3K4me3-38_26032021-13',\n       'SCLC0244-387_NA_H3K4me3-38_26032021-13',\n       'CRC0006-3135_NA_H3K4me3-L_27022019-L',\n       'SCLC0126-45_NA_H3K4me3-39_26032021-13',\n       'SCLC0169-222_NA_H3K4me3-38_26032021-13',\n       'SCLC0020-299_NA_H3K4me3-39_26032021-13',\n       'SCLC0033-489_NA_H3K4me3-39_26032021-13',\n       'SCLC0056-655_NA_H3K4me3-39_26032021-13',\n       'PS0187-1_Control-Kapa16_H3K4me3-698_19052023-92',\n       'SCLC0023-355_NA_H3K4me3-38_26032021-13',\n       'CRC0004-2751_NA_H3K4me3-L_03092018-L',\n       'PS0125-9_48h-post-TAB-vaccine_H3K4me3-412_28082022-63',\n       'PS0087-6_RT-ChIP_H3K4me3-71_21062021-24',\n       'PS0003-24_NA_H3K4me3-513_29092022-66',\n       'SCLC0062-688_NA_H3K4me3-38_26032021-13',\n       'PS0072-1_WashPlate-1_H3K4me3-248_16022022-44',\n       'CRC0036-3487_NA_H3K4me3-L_28112019-L',\n       'CRC0028-4021_NA_H3K4me3-L_19022020-L',\n       'SCLC0066-729_NA_H3K4me3-39_26032021-13',\n       'SCLC0196-1722_NA_H3K4me3-L_21062020-L',\n       'SCLC0001-7_NA_H3K4me3-39_26032021-13',\n       'PS0154-1_NA_H3K4me3-385_02082022-59',\n       'SCLC0014-131_NA_H3K4me3-38_26032021-13',\n       'CRC0056-4003_NA_H3K4me3-L_19022020-L',\n       'SCLC0035-653_NA_H3K4me3-38_26032021-13',\n       'SCLC0062-725_NA_H3K4me3-38_26032021-13',\n       'CRC0018-3881_NA_H3K4me3-L_19022020-L',\n       'SCLC0048-573_NA_H3K4me3-38_26032021-13',\n       'SCLC0147-1529_NA_H3K4me3-L_21062020-L',\n       'SCLC0108-435_NA_H3K4me3-L_21062020-L',\n       'CRC0010-3864_NA_H3K4me3-L_17022020-L',\n       'SCLC0109-897_NA_H3K4me3-L_21062020-L',\n       'PS0110-1_NA_H3K4me3-124_27102021-34',\n       'CRC0005-3251_NA_H3K4me3-L_06052019-L',\n       'PS0008-1_NA_H3K4me3-124_27102021-34',\n       'SCLC0042-528_NA_H3K4me3-39_26032021-13',\n       'SCLC0019-247_NA_H3K4me3-38_26032021-13',\n       'SCLC0169-62_NA_H3K4me3-39_26032021-13',\n       'SCLC0027-409_NA_H3K4me3-39_26032021-13',\n       'CRC0010-2852_NA_H3K4me3-L_28112019-L',\n       'SCLC0019-372_NA_H3K4me3-39_26032021-13',\n       'SCLC0174-300_NA_H3K4me3-39_26032021-13',\n       'PS0120-4_NA_H3K4me3-352_06072022-57',\n       'SCLC0150-390_NA_H3K4me3-39_26032021-13',\n       'CRC0055-4009_NA_H3K4me3-L_19022020-L',\n       'PS0124-1_WashPlate-1_H3K4me3-248_16022022-44',\n       'PS0047-2_Roche-FreshChIP_H3K4me3-103_14082021-30',\n       'CRC0046-2264_NA_H3K4me3-L_17122019-L',\n       'SCLC0021-325_NA_H3K4me3-38_26032021-13',\n       'SCLC0006-76_NA_H3K4me3-38_26032021-13',\n       'PS0138-1_NA_H3K4me3-352_06072022-57',\n       'SCLC0124-1439_NA_H3K4me3-L_21062020-L',\n       'CRC0015-3912_NA_H3K4me3-L_19022020-L',\n       'PS0180-1_NA_H3K4me3-732_14072023-97',\n       'SCLC0015-264_NA_H3K4me3-38_26032021-13',\n       'CRC0018-2504_NA_H3K4me3-L_17122019-L',\n       'CRC0024-2816_NA_H3K4me3-L_17122019-L',\n       'PS0116-1_NA_H3K4me3-140_14112021-35',\n       'SCLC0422-832_NA_H3K4me3-L_21062020-L',\n       'SCLC0022-269_NA_H3K4me3-38_26032021-13',\n       'CRC0037-3488_NA_H3K4me3-L_28112019-L',\n       'SCLC0261-419_NA_H3K4me3-38_26032021-13',\n       'PS0109-1_NA_H3K4me3-124_27102021-34',\n       'SCLC0152-94_NA_H3K4me3-38_26032021-13',\n       'PS0186-1_NA_H3K4me3-732_14072023-97',\n       'CRC0009-2004_NA_H3K4me3-L_17122019-L',\n       'PS0001-6_NA_H3K4me3-124_27102021-34',\n       'PS0035-12_NA_H3K4me3-325_07052022-50',\n       'CRC0041-3775_NA_H3K4me3-L_28112019-L',\n       'SCLC0053-621_NA_H3K4me3-38_26032021-13',\n       'SCLC0191-1616_NA_H3K4me3-L_21062020-L',\n       'CRC0023-3947_NA_H3K4me3-L_19022020-L',\n       'CRC0007-2968_NA_H3K4me3-L_26122018-L',\n       'SCLC0061-744_NA_H3K4me3-38_26032021-13',\n       'SCLC0150-91_NA_H3K4me3-39_26032021-13',\n       'PS0087-9_EDTA-FreshChIP_H3K4me3-103_14082021-30',\n       'CRC0015-2138_NA_H3K4me3-L_19012020-L',\n       'PS0049-2_NA_H3K4me3-124_27102021-34',\n       'SCLC0067-781_NA_H3K4me3-39_26032021-13',\n       'SCLC0150-421_NA_H3K4me3-39_26032021-13',\n       'SCLC0150-18_NA_H3K4me3-38_26032021-13',\n       'SCLC0193-1753_NA_H3K4me3-L_21062020-L',\n       'SCLC0004-698_NA_H3K4me3-39_26032021-13',\n       'PS0002-6_NA_H3K4me3-124_27102021-34',\n       'CRC0053-4023_NA_H3K4me3-L_19022020-L',\n       'PS0125-5_NA_H3K4me3-278_03032022-46',\n       'SCLC0046-572_NA_H3K4me3-38_26032021-13',\n       'CRC0034-3729_NA_H3K4me3-L_28112019-L',\n       'PS0171-1_Control-Kapa16_H3K4me3-698_19052023-92',\n       'SCLC0050-641_NA_H3K4me3-38_26032021-13',\n       'PS0103-1_NA_H3K4me3-76_26062021-25',\n       'PS0087-2_israa_H3K4me3-9_07012021-4',\n       'SCLC0032-472_NA_H3K4me3-38_26032021-13',\n       'PS0112-1_NA_H3K4me3-124_27102021-34',\n       'SCLC0054-654_NA_H3K4me3-38_26032021-13',\n       'SCLC0261-553_NA_H3K4me3-39_26032021-13',\n       'CRC0012-2065_NA_H3K4me3-L_19022020-L',\n       'SCLC0170-771_NA_H3K4me3-38_26032021-13',\n       'SCLC0106-705_NA_H3K4me3-L_21062020-L',\n       'PS0003-5_Control_H3K4me3-66_21062021-24',\n       'SCLC0026-376_NA_H3K4me3-39_26032021-13',\n       'PS0003-6_RT-ChIP_H3K4me3-71_21062021-24',\n       'CRC0030-3335_NA_H3K4me3-L_28112019-L',\n       'SCLC0174-261_NA_H3K4me3-38_26032021-13',\n       'SCLC0021-276_NA_H3K4me3-39_26032021-13',\n       'SCLC0015-160_NA_H3K4me3-38_26032021-13',\n       'PS0003-27_NA_H3K4me3-609_19012023-78',\n       'PS0127-5_NA_H3K4me3-586_05012023-75',\n       'SCLC0006-65_NA_H3K4me3-38_26032021-13',\n       'CRC0010-2600_NA_H3K4me3-L_17122019-L',\n       'SCLC0006-551_NA_H3K4me3-39_26032021-13',\n       'CRC0052-3960_NA_H3K4me3-L_19022020-L',\n       'SCLC0267-407_NA_H3K4me3-38_26032021-13',\n       'CRC0028-3264_NA_H3K4me3-L_28112019-L',\n       'PS0125-4_Foot_H3K4me3-255_22022022-45',\n       'SCLC0062-743_NA_H3K4me3-38_26032021-13',\n       'CRC0023-3982_NA_H3K4me3-L_19022020-L',\n       'SCLC0004-382_NA_H3K4me3-38_26032021-13',\n       'SCLC0170-108_NA_H3K4me3-38_26032021-13',\n       'SCLC0055-650_NA_H3K4me3-39_26032021-13',\n       'PS0119-2_NA_H3K4me3-225_30012022-42',\n       'PS0047-4_NA_H3K4me3-124_27102021-34',\n       'SCLC0150-123_NA_H3K4me3-38_26032021-13',\n       'CRC0001-2746_NA_H3K4me3-L_26082018-L',\n       'SCLC0191-364_NA_H3K4me3-38_26032021-13',\n       'PS0035-10_NA_H3K4me3-266_03032022-46',\n       'CRC0041-3778_NA_H3K4me3-L_28112019-L',\n       'SCLC0052-622_NA_H3K4me3-38_26032021-13',\n       'PS0125-1_NA_H3K4me3-185_03012022-40',\n       'CRC0047-4024_NA_H3K4me3-L_19022020-L',\n       'PS0120-6_NA_H3K4me3-732_14072023-97',\n       'CRC0010-1943_NA_H3K4me3-L_17122019-L',\n       'PS0125-3_Arm_H3K4me3-255_22022022-45',\n       'SCLC0116-1388_NA_H3K4me3-L_21062020-L',\n       'SCLC0005-24_NA_H3K4me3-39_26032021-13',\n       'SCLC0170-379_NA_H3K4me3-38_26032021-13',\n       'SCLC0035-561_NA_H3K4me3-39_26032021-13',\n       'PS0135-1_NA_H3K4me3-352_21062022-54',\n       'SCLC0196-207_NA_H3K4me3-39_26032021-13',\n       'SCLC0107-347_NA_H3K4me3-L_21062020-L',\n       'SCLC0186-1644_NA_H3K4me3-L_21062020-L',\n       'CRC0006-2970_NA_H3K4me3-L_05102020-L',\n       'CRC0040-3606_NA_H3K4me3-L_28112019-L',\n       'SCLC0014-225_NA_H3K4me3-38_26032021-13',\n       'CRC0014-3860_NA_H3K4me3-L_19022020-L',\n       'CRC0002-2300_NA_H3K4me3-L_17122019-L',\n       'CRC0021-3929_NA_H3K4me3-L_17022020-L',\n       'PS0043-2_NA_H3K4me3-94_30072021-29',\n       'SCLC0015-199_NA_H3K4me3-38_26032021-13',\n       'SCLC0061-686_NA_H3K4me3-39_26032021-13',\n       'SCLC0037-677_NA_H3K4me3-38_26032021-13',\n       'SCLC0148-29_NA_H3K4me3-39_26032021-13',\n       'SCLC0150-1559_NA_H3K4me3-L_21062020-L',\n       'PS0163-1_NA_H3K4me3-619_31012023-80',\n       'SCLC0150-356_NA_H3K4me3-38_26032021-13',\n       'SCLC0016-201_NA_H3K4me3-38_26032021-13',\n       'PS0161-1_NA_H3K4me3-620_04022023-81'], dtype=object)"
     },
     "execution_count": 58,
     "metadata": {},
     "output_type": "execute_result"
    }
   ],
   "source": [
    "\n",
    "M = len(ref_seq)\n",
    "samples_dir_readfrom = data_path.parent\n",
    "data_dir_saveto = data_path\n",
    "data_name = ''\n",
    "dataset = ''\n",
    "split_train_test(N, M, N_test, samples_dir_readfrom, data_dir_saveto, data_name, dataset,\n",
    "                     sample_split_dict=None, score_genes=False, take_first=True, prefix='', get_test=get_test)\n",
    "train_data, test_data = get_split_data(data_dir_saveto, data_name, get_test=get_test)\n",
    "\n",
    "train_samples = train_data.columns\n",
    "samples = train_samples\n",
    "if get_test:\n",
    "    test_samples = test_data.columns\n",
    "    samples = np.concatenate([train_samples, test_samples])\n",
    "    print(train_samples.shape, test_samples.shape)\n",
    "else: print(train_samples.shape)\n",
    "samples"
   ],
   "metadata": {
    "collapsed": false,
    "ExecuteTime": {
     "end_time": "2024-01-16T14:59:28.176492Z",
     "start_time": "2024-01-16T14:59:27.528758Z"
    }
   }
  },
  {
   "cell_type": "code",
   "execution_count": 59,
   "outputs": [
    {
     "name": "stdout",
     "output_type": "stream",
     "text": [
      "(47,) (81,) (57,)\n",
      "(33,) (58,) (29,)\n"
     ]
    }
   ],
   "source": [
    "\n",
    "healthy_samples_train = np.intersect1d(healthy_samples, train_samples)\n",
    "cohort1_samples_train = np.intersect1d(cohort1_samples, train_samples)\n",
    "cohort2_samples_train = np.intersect1d(cohort2_samples, train_samples)\n",
    "healthy_samples_train_idx = [np.argwhere(train_samples == s)[0, 0] for s in healthy_samples_train]\n",
    "cohort1_samples_train_idx = [np.argwhere(train_samples == s)[0, 0] for s in cohort1_samples_train]\n",
    "cohort2_samples_train_idx = [np.argwhere(train_samples == s)[0, 0] for s in cohort2_samples_train]\n",
    "train_samples_idx = [np.argwhere(samples == s)[0, 0] for s in train_samples]\n",
    "short_names_train = np.array([s.split('_')[0] for s in train_samples])\n",
    "\n",
    "if get_test:\n",
    "    healthy_samples_test = np.intersect1d(healthy_samples, test_samples)\n",
    "    cohort1_samples_test = np.intersect1d(cohort1_samples, test_samples)\n",
    "    cohort2_samples_test = np.intersect1d(cohort2_samples, test_samples)\n",
    "    healthy_samples = np.concatenate([healthy_samples_train, healthy_samples_test])\n",
    "    cohort1_samples = np.concatenate([cohort1_samples_train, cohort1_samples_test])\n",
    "    cohort2_samples = np.concatenate([cohort2_samples_train, cohort2_samples_test])\n",
    "\n",
    "    healthy_samples_test_idx = [np.argwhere(test_samples == s)[0, 0] for s in healthy_samples_test]\n",
    "    cohort1_samples_test_idx = [np.argwhere(test_samples == s)[0, 0] for s in cohort1_samples_test]\n",
    "    cohort2_samples_test_idx = [np.argwhere(test_samples == s)[0, 0] for s in cohort2_samples_test]\n",
    "    test_samples_idx = [np.argwhere(samples == s)[0, 0] for s in test_samples]\n",
    "    short_names_test = np.array([s.split('_')[0] for s in test_samples])\n",
    "    print(healthy_samples_train.shape, cohort1_samples_train.shape, cohort2_samples_train.shape)\n",
    "    print(healthy_samples_test.shape, cohort1_samples_test.shape, cohort2_samples_test.shape)\n",
    "else:\n",
    "    healthy_samples = healthy_samples_train\n",
    "    cohort1_samples = cohort1_samples_train\n",
    "    cohort2_samples = cohort2_samples_train\n",
    "    print(healthy_samples_train.shape, cohort1_samples_train.shape, cohort2_samples_train.shape)"
   ],
   "metadata": {
    "collapsed": false,
    "ExecuteTime": {
     "end_time": "2024-01-16T14:59:28.202930Z",
     "start_time": "2024-01-16T14:59:27.729141Z"
    }
   }
  },
  {
   "cell_type": "code",
   "execution_count": 60,
   "outputs": [],
   "source": [
    "if not (data_path/f'Healthy+{cohort_name}-samples.csv').exists():\n",
    "    pd.DataFrame(samples).to_csv(data_path/f'Healthy+{cohort_name}-samples.csv')\n",
    "    np.savetxt(data_path/f'Healthy+{cohort_name}-samples.txt', samples, fmt='%s')\n",
    "\n",
    "    pd.DataFrame(healthy_samples).to_csv(data_path/'Healthy-samples.csv')\n",
    "    np.savetxt(data_path/'Healthy-samples.txt', healthy_samples, fmt='%s')\n",
    "\n",
    "    cohort_samples = np.concatenate([cohort1_samples_train, cohort2_samples_train, cohort1_samples_test, cohort2_samples_test])\n",
    "    pd.DataFrame(cohort_samples).to_csv(data_path/f'{cohort_name}-samples.csv')\n",
    "    np.savetxt(data_path/f'{cohort_name}-samples.txt', cohort_samples, fmt='%s')\n"
   ],
   "metadata": {
    "collapsed": false,
    "ExecuteTime": {
     "end_time": "2024-01-16T14:59:28.234378Z",
     "start_time": "2024-01-16T14:59:27.739012Z"
    }
   }
  },
  {
   "cell_type": "code",
   "execution_count": 61,
   "outputs": [
    {
     "data": {
      "text/plain": "(4146, 7176, (18182, 185))"
     },
     "execution_count": 61,
     "metadata": {},
     "output_type": "execute_result"
    }
   ],
   "source": [
    "train_data.values.max(), test_data.values.max(), train_data.shape"
   ],
   "metadata": {
    "collapsed": false,
    "ExecuteTime": {
     "end_time": "2024-01-16T14:59:28.460012Z",
     "start_time": "2024-01-16T14:59:27.741312Z"
    }
   }
  },
  {
   "cell_type": "markdown",
   "source": [
    "# filter genes"
   ],
   "metadata": {
    "collapsed": false
   }
  },
  {
   "cell_type": "code",
   "execution_count": 62,
   "outputs": [
    {
     "data": {
      "text/plain": "array(['A1BG', 'A1CF', 'A2M', ..., 'ZSWIM6', 'ZW10', 'ZYG11A'],\n      dtype=object)"
     },
     "execution_count": 62,
     "metadata": {},
     "output_type": "execute_result"
    }
   ],
   "source": [
    "\n",
    "gene_list = pd.read_csv(data_path.parent/'Genes.select.csv').values[:, 0]\n",
    "mkdir(data_path/'selected-genes')\n",
    "\n",
    "if not (data_path/'selected-genes/train.csv').exists():\n",
    "    train_data.loc[gene_list].to_csv(data_path/'selected-genes/train.csv')\n",
    "    test_data.loc[gene_list].to_csv(data_path/'selected-genes/test.csv')\n",
    "\n",
    "gene_list"
   ],
   "metadata": {
    "collapsed": false,
    "ExecuteTime": {
     "end_time": "2024-01-16T14:59:28.597639Z",
     "start_time": "2024-01-16T14:59:27.763496Z"
    }
   }
  },
  {
   "cell_type": "code",
   "execution_count": 63,
   "outputs": [
    {
     "data": {
      "text/plain": "7000"
     },
     "execution_count": 63,
     "metadata": {},
     "output_type": "execute_result"
    }
   ],
   "source": [
    "ref_seq = pd.read_csv(data_path.parent/'Genes.select.csv').values[:, 0]\n",
    "train_data = train_data.loc[ref_seq]\n",
    "test_data = test_data.loc[ref_seq]\n",
    "M = len(ref_seq)\n",
    "M"
   ],
   "metadata": {
    "collapsed": false,
    "ExecuteTime": {
     "end_time": "2024-01-16T14:59:28.648688Z",
     "start_time": "2024-01-16T14:59:27.775327Z"
    }
   }
  },
  {
   "cell_type": "code",
   "execution_count": 64,
   "outputs": [
    {
     "data": {
      "text/plain": "1365"
     },
     "execution_count": 64,
     "metadata": {},
     "output_type": "execute_result"
    }
   ],
   "source": [
    "\n",
    "house_keeping = np.array([g for g in get_house_keeping_genes(gen_path=root_path) if g in ref_seq])\n",
    "house_keeping_idx = np.array([i for i in range(len(ref_seq)) if ref_seq[i] in house_keeping])\n",
    "\n",
    "len(house_keeping_idx)"
   ],
   "metadata": {
    "collapsed": false,
    "ExecuteTime": {
     "end_time": "2024-01-16T14:59:28.947948Z",
     "start_time": "2024-01-16T14:59:27.797969Z"
    }
   }
  },
  {
   "cell_type": "code",
   "execution_count": 64,
   "outputs": [],
   "source": [],
   "metadata": {
    "collapsed": false,
    "ExecuteTime": {
     "end_time": "2024-01-16T15:00:03.128066Z",
     "start_time": "2024-01-16T15:00:01.672197Z"
    }
   }
  },
  {
   "cell_type": "code",
   "execution_count": 64,
   "outputs": [],
   "source": [],
   "metadata": {
    "collapsed": false,
    "ExecuteTime": {
     "start_time": "2024-01-16T15:00:01.674236Z"
    }
   }
  },
  {
   "cell_type": "code",
   "execution_count": 64,
   "outputs": [],
   "source": [],
   "metadata": {
    "collapsed": false,
    "ExecuteTime": {
     "start_time": "2024-01-16T15:00:01.675925Z"
    }
   }
  },
  {
   "cell_type": "code",
   "execution_count": 64,
   "outputs": [],
   "source": [],
   "metadata": {
    "collapsed": false,
    "ExecuteTime": {
     "start_time": "2024-01-16T15:00:01.677529Z"
    }
   }
  }
 ],
 "metadata": {
  "kernelspec": {
   "display_name": "Python 3",
   "language": "python",
   "name": "python3"
  },
  "language_info": {
   "codemirror_mode": {
    "name": "ipython",
    "version": 2
   },
   "file_extension": ".py",
   "mimetype": "text/x-python",
   "name": "python",
   "nbconvert_exporter": "python",
   "pygments_lexer": "ipython2",
   "version": "2.7.6"
  }
 },
 "nbformat": 4,
 "nbformat_minor": 0
}
